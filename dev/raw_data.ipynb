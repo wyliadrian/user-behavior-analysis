{
 "cells": [
  {
   "cell_type": "code",
   "execution_count": 1,
   "metadata": {},
   "outputs": [
    {
     "name": "stdout",
     "output_type": "stream",
     "text": [
      "Requirement already satisfied: boto3 in /Users/weiyili/opt/anaconda3/lib/python3.9/site-packages (1.21.32)\n",
      "Requirement already satisfied: botocore<1.25.0,>=1.24.32 in /Users/weiyili/opt/anaconda3/lib/python3.9/site-packages (from boto3) (1.24.32)\n",
      "Requirement already satisfied: s3transfer<0.6.0,>=0.5.0 in /Users/weiyili/opt/anaconda3/lib/python3.9/site-packages (from boto3) (0.5.0)\n",
      "Requirement already satisfied: jmespath<2.0.0,>=0.7.1 in /Users/weiyili/opt/anaconda3/lib/python3.9/site-packages (from boto3) (0.10.0)\n",
      "Requirement already satisfied: urllib3<1.27,>=1.25.4 in /Users/weiyili/opt/anaconda3/lib/python3.9/site-packages (from botocore<1.25.0,>=1.24.32->boto3) (1.26.9)\n",
      "Requirement already satisfied: python-dateutil<3.0.0,>=2.1 in /Users/weiyili/opt/anaconda3/lib/python3.9/site-packages (from botocore<1.25.0,>=1.24.32->boto3) (2.8.2)\n",
      "Requirement already satisfied: six>=1.5 in /Users/weiyili/opt/anaconda3/lib/python3.9/site-packages (from python-dateutil<3.0.0,>=2.1->botocore<1.25.0,>=1.24.32->boto3) (1.16.0)\n",
      "Note: you may need to restart the kernel to use updated packages.\n"
     ]
    }
   ],
   "source": [
    "# %pip install boto3"
   ]
  },
  {
   "cell_type": "code",
   "execution_count": 4,
   "metadata": {},
   "outputs": [],
   "source": [
    "import boto3\n",
    "ACCESS_KEY = \"******\"\n",
    "SECRET_KEY = \"******\""
   ]
  },
  {
   "cell_type": "code",
   "execution_count": 7,
   "metadata": {},
   "outputs": [],
   "source": [
    "s3 = boto3.client('s3', \n",
    "                  aws_access_key_id = ACCESS_KEY, \n",
    "                  aws_secret_access_key = SECRET_KEY)\n",
    "\n",
    "s3.download_file('start-data-engg', 'data.zip', 'data.zip')"
   ]
  }
 ],
 "metadata": {
  "kernelspec": {
   "display_name": "Python 3.9.12 ('base')",
   "language": "python",
   "name": "python3"
  },
  "language_info": {
   "codemirror_mode": {
    "name": "ipython",
    "version": 3
   },
   "file_extension": ".py",
   "mimetype": "text/x-python",
   "name": "python",
   "nbconvert_exporter": "python",
   "pygments_lexer": "ipython3",
   "version": "3.9.12"
  },
  "orig_nbformat": 4,
  "vscode": {
   "interpreter": {
    "hash": "e054da906f755f1048e3d8b52f406ec9cbc9b8d32a28cf5e40dbd6c773cda24f"
   }
  }
 },
 "nbformat": 4,
 "nbformat_minor": 2
}
